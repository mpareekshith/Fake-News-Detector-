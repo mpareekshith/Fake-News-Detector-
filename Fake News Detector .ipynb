{
 "cells": [
  {
   "cell_type": "markdown",
   "id": "325fe83a",
   "metadata": {},
   "source": [
    "FAKE NEWS DETECTOR With Python and Machine Learning "
   ]
  },
  {
   "cell_type": "markdown",
   "id": "3323a337",
   "metadata": {},
   "source": [
    "What is a TfidfVectorizer?\n",
    "TF (Term Frequency): The number of times a word appears in a document is its Term Frequency. higher the value means term appears more often than others, and so, the document is a good match when the term is part of the search terms.\n",
    "\n",
    "TF(t)= Total number of terms in the document/Number of times term t appears in a document\n",
    "\n",
    " \n",
    "\n",
    "\n",
    "IDF (Inverse Document Frequency): Words that occur many times a document, but also occur many times in many others, may be irrelevant. IDF is a measure of how significant a term is in the entire corpus.\n",
    "\n",
    "The TfidfVectorizer converts a collection of raw documents into a matrix of TF-IDF features."
   ]
  },
  {
   "cell_type": "code",
   "execution_count": 210,
   "id": "4682a352",
   "metadata": {},
   "outputs": [],
   "source": [
    "import numpy as np\n",
    "import pandas as pd\n",
    "from sklearn.model_selection import train_test_split\n",
    "from sklearn.feature_extraction.text import TfidfVectorizer\n",
    "from sklearn.linear_model import PassiveAggressiveClassifier\n",
    "from sklearn.metrics import accuracy_score, confusion_matrix\n",
    "from sklearn.preprocessing import LabelEncoder"
   ]
  },
  {
   "cell_type": "markdown",
   "id": "313db27a",
   "metadata": {},
   "source": [
    "1.Loading the Dataset:"
   ]
  },
  {
   "cell_type": "markdown",
   "id": "1612b9ed",
   "metadata": {},
   "source": [
    "\n",
    "This data set file named WELFAKE_Dataset.csv has 4 columns index number , title of the news and the news text and labels containing values 0&1 (0 means fake and 1 means Real)\n",
    "WELFake) is a dataset of 72,134 news articles with 35,028 real and 37,106 fake news. For this, authors merged four popular news datasets (i.e. Kaggle, McIntire, Reuters, BuzzFeed Political) to prevent over-fitting of classifiers and to provide more text data for better ML training"
   ]
  },
  {
   "cell_type": "code",
   "execution_count": 211,
   "id": "48db7e9f",
   "metadata": {
    "scrolled": true
   },
   "outputs": [
    {
     "data": {
      "text/html": [
       "<div>\n",
       "<style scoped>\n",
       "    .dataframe tbody tr th:only-of-type {\n",
       "        vertical-align: middle;\n",
       "    }\n",
       "\n",
       "    .dataframe tbody tr th {\n",
       "        vertical-align: top;\n",
       "    }\n",
       "\n",
       "    .dataframe thead th {\n",
       "        text-align: right;\n",
       "    }\n",
       "</style>\n",
       "<table border=\"1\" class=\"dataframe\">\n",
       "  <thead>\n",
       "    <tr style=\"text-align: right;\">\n",
       "      <th></th>\n",
       "      <th>Unnamed: 0</th>\n",
       "      <th>title</th>\n",
       "      <th>text</th>\n",
       "      <th>label</th>\n",
       "    </tr>\n",
       "  </thead>\n",
       "  <tbody>\n",
       "    <tr>\n",
       "      <th>0</th>\n",
       "      <td>8476</td>\n",
       "      <td>You Can Smell Hillary’s Fear</td>\n",
       "      <td>Daniel Greenfield, a Shillman Journalism Fello...</td>\n",
       "      <td>FAKE</td>\n",
       "    </tr>\n",
       "    <tr>\n",
       "      <th>1</th>\n",
       "      <td>10294</td>\n",
       "      <td>Watch The Exact Moment Paul Ryan Committed Pol...</td>\n",
       "      <td>Google Pinterest Digg Linkedin Reddit Stumbleu...</td>\n",
       "      <td>FAKE</td>\n",
       "    </tr>\n",
       "    <tr>\n",
       "      <th>2</th>\n",
       "      <td>3608</td>\n",
       "      <td>Kerry to go to Paris in gesture of sympathy</td>\n",
       "      <td>U.S. Secretary of State John F. Kerry said Mon...</td>\n",
       "      <td>REAL</td>\n",
       "    </tr>\n",
       "    <tr>\n",
       "      <th>3</th>\n",
       "      <td>10142</td>\n",
       "      <td>Bernie supporters on Twitter erupt in anger ag...</td>\n",
       "      <td>— Kaydee King (@KaydeeKing) November 9, 2016 T...</td>\n",
       "      <td>FAKE</td>\n",
       "    </tr>\n",
       "    <tr>\n",
       "      <th>4</th>\n",
       "      <td>875</td>\n",
       "      <td>The Battle of New York: Why This Primary Matters</td>\n",
       "      <td>It's primary day in New York and front-runners...</td>\n",
       "      <td>REAL</td>\n",
       "    </tr>\n",
       "  </tbody>\n",
       "</table>\n",
       "</div>"
      ],
      "text/plain": [
       "   Unnamed: 0                                              title  \\\n",
       "0        8476                       You Can Smell Hillary’s Fear   \n",
       "1       10294  Watch The Exact Moment Paul Ryan Committed Pol...   \n",
       "2        3608        Kerry to go to Paris in gesture of sympathy   \n",
       "3       10142  Bernie supporters on Twitter erupt in anger ag...   \n",
       "4         875   The Battle of New York: Why This Primary Matters   \n",
       "\n",
       "                                                text label  \n",
       "0  Daniel Greenfield, a Shillman Journalism Fello...  FAKE  \n",
       "1  Google Pinterest Digg Linkedin Reddit Stumbleu...  FAKE  \n",
       "2  U.S. Secretary of State John F. Kerry said Mon...  REAL  \n",
       "3  — Kaydee King (@KaydeeKing) November 9, 2016 T...  FAKE  \n",
       "4  It's primary day in New York and front-runners...  REAL  "
      ]
     },
     "execution_count": 211,
     "metadata": {},
     "output_type": "execute_result"
    }
   ],
   "source": [
    "\n",
    "\n",
    "# Read the data\n",
    "df = pd.read_csv(r'C:\\Users\\pariksheeth\\fake_or_real_news.csv\\fake_or_real_news.csv')\n",
    "df.head()\n"
   ]
  },
  {
   "cell_type": "code",
   "execution_count": 212,
   "id": "e245c77b",
   "metadata": {},
   "outputs": [
    {
     "data": {
      "text/plain": [
       "(6335,)"
      ]
     },
     "execution_count": 212,
     "metadata": {},
     "output_type": "execute_result"
    }
   ],
   "source": [
    "#DataFlair - Get the labels\n",
    "labels=df.label\n",
    "labels.head()\n",
    "labels.shape"
   ]
  },
  {
   "cell_type": "markdown",
   "id": "a86d2615",
   "metadata": {},
   "source": [
    "2. Preparing the Data for Training:"
   ]
  },
  {
   "cell_type": "markdown",
   "id": "a2b28bf3",
   "metadata": {},
   "source": [
    "\n",
    "We need to split the data into training and testing sets. "
   ]
  },
  {
   "cell_type": "code",
   "execution_count": 213,
   "id": "a80b1ec7",
   "metadata": {},
   "outputs": [],
   "source": [
    "#DataFlair - Split the dataset\n",
    "x_train,x_test,y_train,y_test=train_test_split(df['text'], labels, test_size=0.2, random_state=7)\n"
   ]
  },
  {
   "cell_type": "markdown",
   "id": "d7fb955c",
   "metadata": {},
   "source": [
    "Here, x_train and x_test represent the text data, while y_train and y_test are the corresponding labels. We set a random_state to ensure the split is reproducible."
   ]
  },
  {
   "cell_type": "code",
   "execution_count": 214,
   "id": "3c387507",
   "metadata": {},
   "outputs": [
    {
     "name": "stdout",
     "output_type": "stream",
     "text": [
      "0\n"
     ]
    }
   ],
   "source": [
    "print(x_train.isna().sum())  # Check how many NaN values are present\n",
    "\n"
   ]
  },
  {
   "cell_type": "markdown",
   "id": "ddb990ec",
   "metadata": {},
   "source": [
    "3. Text Preprocessing with TF-IDF Vectorizer:"
   ]
  },
  {
   "cell_type": "markdown",
   "id": "e3d21f81",
   "metadata": {},
   "source": [
    "\n",
    "Next, we need to convert the raw text data into a format that can be understood by the machine learning model. We use a TF-IDF Vectorizer to transform the text data into numerical features. This method considers both the term frequency (how often a word appears in a document) and the inverse document frequency (how rare or unique a word is across all documents)."
   ]
  },
  {
   "cell_type": "code",
   "execution_count": 215,
   "id": "120170dd",
   "metadata": {},
   "outputs": [],
   "source": [
    "#DataFlair - Initialize a TfidfVectorizer and fit/transform the train data\n",
    "tfidf_vectorizer=TfidfVectorizer(stop_words='english', max_df=0.7)\n",
    "\n",
    "#DataFlair - Fit and transform train set, transform test set\n",
    "tfidf_train=tfidf_vectorizer.fit_transform(x_train) \n",
    "tfidf_test=tfidf_vectorizer.transform(x_test)\n"
   ]
  },
  {
   "cell_type": "markdown",
   "id": "efd1c5f6",
   "metadata": {},
   "source": [
    "We first initialize the TfidfVectorizer, removing common stop words (like \"the,\" \"is,\" etc.) and ignoring words that appear in more than 70% of the documents (max_df=0.7). We then apply this transformation to both the training and test data.\n",
    "\n"
   ]
  },
  {
   "cell_type": "markdown",
   "id": "4e097842",
   "metadata": {},
   "source": [
    "4. Training the Model:"
   ]
  },
  {
   "cell_type": "markdown",
   "id": "5a9c9832",
   "metadata": {},
   "source": [
    "\n",
    "We use a Passive-Aggressive Classifier for this task. This model is efficient for large datasets and performs well in text classification tasks like detecting fake news. The classifier is trained using the transformed training data."
   ]
  },
  {
   "cell_type": "code",
   "execution_count": 273,
   "id": "2572502f",
   "metadata": {},
   "outputs": [
    {
     "data": {
      "text/html": [
       "<style>#sk-container-id-11 {color: black;}#sk-container-id-11 pre{padding: 0;}#sk-container-id-11 div.sk-toggleable {background-color: white;}#sk-container-id-11 label.sk-toggleable__label {cursor: pointer;display: block;width: 100%;margin-bottom: 0;padding: 0.3em;box-sizing: border-box;text-align: center;}#sk-container-id-11 label.sk-toggleable__label-arrow:before {content: \"▸\";float: left;margin-right: 0.25em;color: #696969;}#sk-container-id-11 label.sk-toggleable__label-arrow:hover:before {color: black;}#sk-container-id-11 div.sk-estimator:hover label.sk-toggleable__label-arrow:before {color: black;}#sk-container-id-11 div.sk-toggleable__content {max-height: 0;max-width: 0;overflow: hidden;text-align: left;background-color: #f0f8ff;}#sk-container-id-11 div.sk-toggleable__content pre {margin: 0.2em;color: black;border-radius: 0.25em;background-color: #f0f8ff;}#sk-container-id-11 input.sk-toggleable__control:checked~div.sk-toggleable__content {max-height: 200px;max-width: 100%;overflow: auto;}#sk-container-id-11 input.sk-toggleable__control:checked~label.sk-toggleable__label-arrow:before {content: \"▾\";}#sk-container-id-11 div.sk-estimator input.sk-toggleable__control:checked~label.sk-toggleable__label {background-color: #d4ebff;}#sk-container-id-11 div.sk-label input.sk-toggleable__control:checked~label.sk-toggleable__label {background-color: #d4ebff;}#sk-container-id-11 input.sk-hidden--visually {border: 0;clip: rect(1px 1px 1px 1px);clip: rect(1px, 1px, 1px, 1px);height: 1px;margin: -1px;overflow: hidden;padding: 0;position: absolute;width: 1px;}#sk-container-id-11 div.sk-estimator {font-family: monospace;background-color: #f0f8ff;border: 1px dotted black;border-radius: 0.25em;box-sizing: border-box;margin-bottom: 0.5em;}#sk-container-id-11 div.sk-estimator:hover {background-color: #d4ebff;}#sk-container-id-11 div.sk-parallel-item::after {content: \"\";width: 100%;border-bottom: 1px solid gray;flex-grow: 1;}#sk-container-id-11 div.sk-label:hover label.sk-toggleable__label {background-color: #d4ebff;}#sk-container-id-11 div.sk-serial::before {content: \"\";position: absolute;border-left: 1px solid gray;box-sizing: border-box;top: 0;bottom: 0;left: 50%;z-index: 0;}#sk-container-id-11 div.sk-serial {display: flex;flex-direction: column;align-items: center;background-color: white;padding-right: 0.2em;padding-left: 0.2em;position: relative;}#sk-container-id-11 div.sk-item {position: relative;z-index: 1;}#sk-container-id-11 div.sk-parallel {display: flex;align-items: stretch;justify-content: center;background-color: white;position: relative;}#sk-container-id-11 div.sk-item::before, #sk-container-id-11 div.sk-parallel-item::before {content: \"\";position: absolute;border-left: 1px solid gray;box-sizing: border-box;top: 0;bottom: 0;left: 50%;z-index: -1;}#sk-container-id-11 div.sk-parallel-item {display: flex;flex-direction: column;z-index: 1;position: relative;background-color: white;}#sk-container-id-11 div.sk-parallel-item:first-child::after {align-self: flex-end;width: 50%;}#sk-container-id-11 div.sk-parallel-item:last-child::after {align-self: flex-start;width: 50%;}#sk-container-id-11 div.sk-parallel-item:only-child::after {width: 0;}#sk-container-id-11 div.sk-dashed-wrapped {border: 1px dashed gray;margin: 0 0.4em 0.5em 0.4em;box-sizing: border-box;padding-bottom: 0.4em;background-color: white;}#sk-container-id-11 div.sk-label label {font-family: monospace;font-weight: bold;display: inline-block;line-height: 1.2em;}#sk-container-id-11 div.sk-label-container {text-align: center;}#sk-container-id-11 div.sk-container {/* jupyter's `normalize.less` sets `[hidden] { display: none; }` but bootstrap.min.css set `[hidden] { display: none !important; }` so we also need the `!important` here to be able to override the default hidden behavior on the sphinx rendered scikit-learn.org. See: https://github.com/scikit-learn/scikit-learn/issues/21755 */display: inline-block !important;position: relative;}#sk-container-id-11 div.sk-text-repr-fallback {display: none;}</style><div id=\"sk-container-id-11\" class=\"sk-top-container\"><div class=\"sk-text-repr-fallback\"><pre>PassiveAggressiveClassifier(max_iter=100)</pre><b>In a Jupyter environment, please rerun this cell to show the HTML representation or trust the notebook. <br />On GitHub, the HTML representation is unable to render, please try loading this page with nbviewer.org.</b></div><div class=\"sk-container\" hidden><div class=\"sk-item\"><div class=\"sk-estimator sk-toggleable\"><input class=\"sk-toggleable__control sk-hidden--visually\" id=\"sk-estimator-id-11\" type=\"checkbox\" checked><label for=\"sk-estimator-id-11\" class=\"sk-toggleable__label sk-toggleable__label-arrow\">PassiveAggressiveClassifier</label><div class=\"sk-toggleable__content\"><pre>PassiveAggressiveClassifier(max_iter=100)</pre></div></div></div></div></div>"
      ],
      "text/plain": [
       "PassiveAggressiveClassifier(max_iter=100)"
      ]
     },
     "execution_count": 273,
     "metadata": {},
     "output_type": "execute_result"
    }
   ],
   "source": [
    "#DataFlair - Initialize a PassiveAggressiveClassifier\n",
    "pac=PassiveAggressiveClassifier(max_iter=100)\n",
    "pac.fit(tfidf_train,y_train)\n",
    "\n"
   ]
  },
  {
   "cell_type": "markdown",
   "id": "ae8a23ea",
   "metadata": {},
   "source": [
    "5. Evaluating the Model:"
   ]
  },
  {
   "cell_type": "markdown",
   "id": "cd5a0216",
   "metadata": {},
   "source": [
    "\n",
    "After training the model, we evaluate its performance using the test data. The model predicts whether the news articles are real or fake, and we compare these predictions with the true labels. The accuracy score and confusion matrix help us understand how well the model is performing."
   ]
  },
  {
   "cell_type": "code",
   "execution_count": 217,
   "id": "381efc6c",
   "metadata": {},
   "outputs": [
    {
     "name": "stdout",
     "output_type": "stream",
     "text": [
      "Accuracy: 92.58%\n"
     ]
    }
   ],
   "source": [
    "#DataFlair - Predict on the test set and calculate accuracy\n",
    "y_pred=pac.predict(tfidf_test)\n",
    "score=accuracy_score(y_test,y_pred)\n",
    "print(f'Accuracy: {round(score*100,2)}%')"
   ]
  },
  {
   "cell_type": "code",
   "execution_count": 218,
   "id": "d74de4e2",
   "metadata": {},
   "outputs": [
    {
     "data": {
      "text/plain": [
       "array([[587,  51],\n",
       "       [ 43, 586]], dtype=int64)"
      ]
     },
     "execution_count": 218,
     "metadata": {},
     "output_type": "execute_result"
    }
   ],
   "source": [
    "#DataFlair - Build confusion matrix\n",
    "confusion_matrix(y_test,y_pred, labels=['FAKE','REAL'])"
   ]
  },
  {
   "cell_type": "markdown",
   "id": "f1a00f3e",
   "metadata": {},
   "source": [
    "now lets move towords using our trained model to check weather the given news is real or fake . \n",
    "below is the example news.\n",
    "6. Making Predictions on New Data\n",
    "Now that we have a trained model, we can use it to predict whether a new piece of news is real or fake. Here, we provide an example news article for testing."
   ]
  },
  {
   "cell_type": "code",
   "execution_count": 264,
   "id": "95991525",
   "metadata": {},
   "outputs": [],
   "source": [
    "# Example single news article for testing\n",
    "news_title =\"Scientists Have Discovered a Fountain of Youth in the Amazon Rainforest\"\n",
    "news_text = \"\"\"In a groundbreaking discovery, scientists claim to have found the mythical Fountain of Youth deep within the Amazon Rainforest. The research team, led by Dr. John Doe, reports that the fountain has the ability to reverse the aging process, making it possible for humans to live for centuries. The team suggests that the water from the fountain could be the key to eternal life and has begun seeking funding to bring the discovery to the public. “This is the most important discovery in human history,” Dr. Doe said during a press conference. However, many experts have raised concerns, calling the findings a hoax and warning that the claims lack credible evidence. No scientific peer-reviewed studies have yet confirmed the discovery.\"\"\"\n",
    "\n",
    "\n",
    "\n",
    "\n",
    "\n",
    "\n"
   ]
  },
  {
   "cell_type": "code",
   "execution_count": 265,
   "id": "c42394c6",
   "metadata": {},
   "outputs": [],
   "source": [
    "# Preprocessing function (same as used during training)\n",
    "def preprocess_text(text):\n",
    "    # Example preprocessing: lowercase and remove non-alphabetic characters\n",
    "    return text.lower()\n",
    "\n"
   ]
  },
  {
   "cell_type": "code",
   "execution_count": 266,
   "id": "6b51cfa7",
   "metadata": {},
   "outputs": [],
   "source": [
    "# Combine title and text and preprocess\n",
    "processed_news = preprocess_text(news_title + \" \" + news_text)\n",
    "\n"
   ]
  },
  {
   "cell_type": "code",
   "execution_count": 267,
   "id": "11bee996",
   "metadata": {},
   "outputs": [],
   "source": [
    "# Step 2: Transform the text into the same feature representation using the trained TF-IDF vectorizer\n",
    "news_tfidf = tfidf_vectorizer.transform([processed_news])  # Use the fitted tfidf_vectorizer from training\n",
    "\n",
    "\n"
   ]
  },
  {
   "cell_type": "code",
   "execution_count": 268,
   "id": "a0476707",
   "metadata": {},
   "outputs": [],
   "source": [
    "# Step 1: Get the predicted class (0 for fake, 1 for real) directly\n",
    "prediction = pac.predict(news_tfidf)  # This gives you the predicted class (0 or 1)\n"
   ]
  },
  {
   "cell_type": "code",
   "execution_count": 269,
   "id": "99513948",
   "metadata": {},
   "outputs": [],
   "source": [
    "# Ensure prediction is in integer format before inverse_transform\n",
    "prediction_int = prediction[0]  # Extract the integer from the prediction array\n"
   ]
  },
  {
   "cell_type": "code",
   "execution_count": 270,
   "id": "c88dccff",
   "metadata": {},
   "outputs": [],
   "source": [
    "# If prediction is string (like 'FAKE', 'REAL'), convert it to numeric labels (0, 1)\n",
    "if isinstance(prediction_int, str):\n",
    "    if prediction_int == 'FAKE':\n",
    "        prediction_int = 0\n",
    "    elif prediction_int == 'REAL':\n",
    "        prediction_int = 1"
   ]
  },
  {
   "cell_type": "code",
   "execution_count": 271,
   "id": "220ad72f",
   "metadata": {},
   "outputs": [],
   "source": [
    "# Decoding the prediction using the LabelEncoder\n",
    "# Assuming you have already trained a LabelEncoder during the model training,\n",
    "# use that encoder to convert 0 or 1 back to 'FAKE' or 'REAL'\n",
    "prediction_decoded = encoder.inverse_transform([prediction_int])  # Pass a list instead of a single value"
   ]
  },
  {
   "cell_type": "code",
   "execution_count": 272,
   "id": "3d5a343a",
   "metadata": {},
   "outputs": [
    {
     "name": "stdout",
     "output_type": "stream",
     "text": [
      "News Title: Scientists Have Discovered a Fountain of Youth in the Amazon Rainforest\n",
      "News Text: In a groundbreaking discovery, scientists claim to have found the mythical Fountain of Youth deep within the Amazon Rainforest. The research team, led by Dr. John Doe, reports that the fountain has the ability to reverse the aging process, making it possible for humans to live for centuries. The team suggests that the water from the fountain could be the key to eternal life and has begun seeking funding to bring the discovery to the public. “This is the most important discovery in human history,” Dr. Doe said during a press conference. However, many experts have raised concerns, calling the findings a hoax and warning that the claims lack credible evidence. No scientific peer-reviewed studies have yet confirmed the discovery.\n",
      "Prediction: FAKE\n"
     ]
    }
   ],
   "source": [
    "# Output the prediction\n",
    "print(f\"News Title: {news_title}\")\n",
    "print(f\"News Text: {news_text}\")\n",
    "print(f\"Prediction: {prediction_decoded[0]}\")  # This will print 'REAL' or 'FAKE'\n",
    "\n"
   ]
  },
  {
   "cell_type": "code",
   "execution_count": null,
   "id": "59d169a9",
   "metadata": {},
   "outputs": [],
   "source": []
  }
 ],
 "metadata": {
  "kernelspec": {
   "display_name": "Python 3 (ipykernel)",
   "language": "python",
   "name": "python3"
  },
  "language_info": {
   "codemirror_mode": {
    "name": "ipython",
    "version": 3
   },
   "file_extension": ".py",
   "mimetype": "text/x-python",
   "name": "python",
   "nbconvert_exporter": "python",
   "pygments_lexer": "ipython3",
   "version": "3.11.5"
  }
 },
 "nbformat": 4,
 "nbformat_minor": 5
}
